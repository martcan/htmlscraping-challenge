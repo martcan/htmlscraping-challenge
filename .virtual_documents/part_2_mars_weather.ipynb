


# Import relevant libraries
from splinter import Browser
from bs4 import BeautifulSoup
import matplotlib.pyplot as plt
import pandas as pd


browser = Browser('chrome')





# Visit the website
# https://static.bc-edx.com/data/web/mars_facts/temperature.html
url = "https://static.bc-edx.com/data/web/mars_facts/temperature.html"
browser.visit(url)





# Create a Beautiful Soup Object
html = browser.html
soup = BeautifulSoup(html, 'html.parser')


# Extract all rows of data
all_data=soup.find_all('tr',class_='data-row')






# Create an empty list
id=[]
terrestrial_date=[]
sol=[]
ls=[]
month=[]
min_temp=[]
pressure=[]
# Loop through the scraped data to create a list of rows
for row_data in all_data:
    cells = row_data.find_all('td')
    id.append(cells[0].text.strip())
    terrestrial_date.append(cells[1].text.strip())
    sol.append(cells[2].text.strip())
    ls.append(cells[3].text.strip())
    month.append(cells[4].text.strip())
    min_temp.append(cells[5].text.strip())
    pressure.append(cells[6].text.strip())



# Create a Pandas DataFrame by using the list of rows and a list of the column names
data = {
    'id': id,
    'terrestrial_date': terrestrial_date,
    'sol': sol,
    'ls': ls,
    'month': month,
    'min_temp': min_temp,
    'pressure': pressure
}
mars_temp_df = pd.DataFrame(data)


# Confirm DataFrame was created successfully
mars_temp_df.head()





# Examine data type of each column
mars_temp_df.info()


# Change data types for data analysis
mars_temp_df['terrestrial_date'] = pd.to_datetime(mars_temp_df['terrestrial_date'])
mars_temp_df['sol'] = pd.to_numeric(mars_temp_df['sol'], downcast='integer')
mars_temp_df['ls'] = pd.to_numeric(mars_temp_df['ls'], downcast='integer')
mars_temp_df['month'] = pd.to_numeric(mars_temp_df['month'], downcast='integer')
mars_temp_df['min_temp']=pd.to_numeric(mars_temp_df['min_temp'], downcast='float')
mars_temp_df['pressure']=pd.to_numeric(mars_temp_df['pressure'], downcast='float')


# Confirm type changes were successful by examining data types again
mars_temp_df.info()





# 1. How many months are there on Mars?
month_date_count = mars_temp_df.groupby('month')['terrestrial_date'].count().reset_index()
month_date_count.set_index('month', inplace=True)
month_date_count


# 2. How many Martian days' worth of data are there?
non_dull_data = len(mars_temp_df['terrestrial_date'].dropna().unique())
non_dull_data


# 3. What is the average low temperature by month?
month_avg_temp = mars_temp_df.groupby('month')['min_temp'].mean().reset_index()
month_avg_temp.columns=['month','average temp']
month_avg_temp.set_index('month', inplace=True)
month_avg_temp


# Plot the average temperature by month
month_avg_temp.plot(kind='bar', legend=False)
plt.title('Average Temperature by Month')
plt.xlabel('Month')
plt.ylabel('Average Temperature')
plt.show()


# Identify the coldest and hottest months in Curiosity's location
month_avg_temp_sorted = month_avg_temp.sort_values(by='average temp', ascending=True)
month_avg_temp_sorted.plot(kind='bar', legend=False)
plt.title('Average Temperature by Month - Ascending Order')
plt.xlabel('Month')
plt.ylabel('Average Temperature')
plt.show()

coldest_month = month_avg_temp_sorted['average temp'].idxmin()
hottest_month = month_avg_temp_sorted['average temp'].idxmax()

print(f"The coldest month is month # {coldest_month}")
print(f"The coldest month is month # {hottest_month}")



# 4. Average pressure by Martian month
month_avg_pressure = mars_temp_df.groupby('month')['pressure'].mean().reset_index()

month_avg_pressure.set_index('month', inplace=True)
month_avg_pressure


# Plot the average pressure by month
month_avg_pressure_sorted = month_avg_pressure.sort_values(by='pressure', ascending=True)
month_avg_pressure_sorted.plot(kind='bar', legend=False)
plt.title('Atmospheric Pressure for Months - Ascending Order')
plt.xlabel('Month')
plt.ylabel('Atmospheric Pressure')
plt.show()

#Print the highest and lowest pressure months
highest_pressure_month = month_avg_pressure_sorted['pressure'].idxmin()
lowest_pressure_month = month_avg_pressure_sorted['pressure'].idxmax()

print(f"The highest pressure month is month # {highest_pressure_month}")
print(f"The lowest pressure month is month # {lowest_pressure_month}")


# 5. How many terrestrial (earth) days are there in a Martian year?















# Write the data to a CSV



browser.quit()



